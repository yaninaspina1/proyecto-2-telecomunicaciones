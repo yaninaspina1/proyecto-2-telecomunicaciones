{
 "cells": [
  {
   "cell_type": "code",
   "execution_count": 15,
   "metadata": {},
   "outputs": [],
   "source": [
    "import numpy as np\n",
    "import pandas as pd\n",
    "import seaborn as sns\n",
    "import matplotlib.pyplot as plt\n",
    "\n",
    "import warnings\n",
    "warnings.filterwarnings('ignore') "
   ]
  },
  {
   "cell_type": "code",
   "execution_count": 16,
   "metadata": {},
   "outputs": [
    {
     "data": {
      "text/plain": [
       "['Hoja3']"
      ]
     },
     "execution_count": 16,
     "metadata": {},
     "output_type": "execute_result"
    }
   ],
   "source": [
    "# Ruta del archivo subido\n",
    "file_path = \"C:/Users/yanin/OneDrive/Desktop/proyecto 2/archivos/mapa_conectividad.xlsx\"\n",
    "\n",
    "# Cargar el archivo Excel\n",
    "xls_internet = pd.ExcelFile(file_path)\n",
    "\n",
    "# Mostrar los nombres de las hojas\n",
    "xls_internet.sheet_names"
   ]
  },
  {
   "cell_type": "code",
   "execution_count": 17,
   "metadata": {},
   "outputs": [
    {
     "data": {
      "text/plain": [
       "['Portin']"
      ]
     },
     "execution_count": 17,
     "metadata": {},
     "output_type": "execute_result"
    }
   ],
   "source": [
    "# Ruta del archivo subido\n",
    "file_path = \"C:/Users/yanin/OneDrive/Desktop/proyecto 2/archivos/portabilidad.xlsx\"\n",
    "\n",
    "# Cargar el archivo Excel\n",
    "xls_portabilidad = pd.ExcelFile(file_path)\n",
    "\n",
    "# Mostrar los nombres de las hojas\n",
    "xls_portabilidad.sheet_names"
   ]
  },
  {
   "cell_type": "code",
   "execution_count": 18,
   "metadata": {},
   "outputs": [
    {
     "data": {
      "text/plain": [
       "['ventas_postales',\n",
       " 'ventas_telegraficas',\n",
       " 'venta_monetarios',\n",
       " 'ventas_unidades_provincias',\n",
       " 'personal_ocupado',\n",
       " 'unidades_postales',\n",
       " 'unidades_telegraficas',\n",
       " 'unidades_monetarios']"
      ]
     },
     "execution_count": 18,
     "metadata": {},
     "output_type": "execute_result"
    }
   ],
   "source": [
    "# Ruta del archivo subido\n",
    "file_path = \"C:/Users/yanin/OneDrive/Desktop/proyecto 2/archivos/servicios_postales.xlsx\"\n",
    "\n",
    "# Cargar el archivo Excel\n",
    "xls_servicios_postales= pd.ExcelFile(file_path)\n",
    "\n",
    "# Mostrar los nombres de las hojas\n",
    "xls_servicios_postales.sheet_names"
   ]
  },
  {
   "cell_type": "code",
   "execution_count": null,
   "metadata": {},
   "outputs": [],
   "source": []
  },
  {
   "cell_type": "code",
   "execution_count": 19,
   "metadata": {},
   "outputs": [
    {
     "data": {
      "text/plain": [
       "['SMS',\n",
       " 'Llamadas salientes',\n",
       " 'Minutos salientes',\n",
       " 'Ingresos',\n",
       " 'Penetracion',\n",
       " 'Accesos',\n",
       " 'Hoja1']"
      ]
     },
     "execution_count": 19,
     "metadata": {},
     "output_type": "execute_result"
    }
   ],
   "source": [
    "# Ruta del archivo subido\n",
    "file_path = \"C:/Users/yanin/OneDrive/Desktop/proyecto 2/archivos/telefonia_movil.xlsx\"\n",
    "\n",
    "# Cargar el archivo Excel\n",
    "xls_telefonia_movil = pd.ExcelFile(file_path)\n",
    "\n",
    "# Mostrar los nombres de las hojas\n",
    "xls_telefonia_movil.sheet_names"
   ]
  },
  {
   "cell_type": "code",
   "execution_count": 20,
   "metadata": {},
   "outputs": [
    {
     "data": {
      "text/plain": [
       "['Accesos_prov_TV',\n",
       " 'Accesos_totales_TV',\n",
       " 'Ingresos_TV',\n",
       " 'Penetracion_prov_TV',\n",
       " 'Penetracion_totales_TV']"
      ]
     },
     "execution_count": 20,
     "metadata": {},
     "output_type": "execute_result"
    }
   ],
   "source": [
    "# Ruta del archivo subido\n",
    "file_path = \"C:/Users/yanin/OneDrive/Desktop/proyecto 2/archivos/television.xlsx\"\n",
    "\n",
    "# Cargar el archivo Excel\n",
    "xls_television = pd.ExcelFile(file_path)\n",
    "\n",
    "# Mostrar los nombres de las hojas\n",
    "xls_television.sheet_names"
   ]
  },
  {
   "cell_type": "code",
   "execution_count": 23,
   "metadata": {},
   "outputs": [
    {
     "data": {
      "text/plain": [
       "['Fija_prov_tipo',\n",
       " 'Fija_accesos_tot',\n",
       " 'Fija_penetracion_prov',\n",
       " 'Fija_penetracion_tot',\n",
       " 'Fija_ingresos']"
      ]
     },
     "execution_count": 23,
     "metadata": {},
     "output_type": "execute_result"
    }
   ],
   "source": [
    "# Ruta del archivo subido\n",
    "file_path = \"C:/Users/yanin/OneDrive/Desktop/proyecto 2/archivos/telefonia_fija.xlsx\"\n",
    "\n",
    "# Cargar el archivo Excel\n",
    "xls_telefonia_fija= pd.ExcelFile(file_path)\n",
    "\n",
    "# Mostrar los nombres de las hojas\n",
    "xls_telefonia_fija.sheet_names"
   ]
  },
  {
   "cell_type": "markdown",
   "metadata": {},
   "source": [
    "📌 KPI Propuesto: Aumento del acceso a Internet por provincia\n",
    "Fórmula:\n",
    "\n",
    "𝐾\n",
    "𝑃\n",
    "𝐼\n",
    "=\n",
    "(\n",
    "Nuevo acceso\n",
    "−\n",
    "Acceso actual\n",
    "Acceso actual\n",
    ")\n",
    "×\n",
    "100\n",
    "KPI=( \n",
    "Acceso actual\n",
    "Nuevo acceso−Acceso actual\n",
    "​\n",
    " )×100\n",
    "✅ Interpretación: Mide el crecimiento porcentual del acceso a Internet en cada provincia por cada 100 hogares.\n",
    "\n",
    "Visualización sugerida para el Dashboard:\n",
    "\n",
    "Mapa de calor por provincia con la variación del KPI.\n",
    "Gráfico de barras comparando el acceso actual vs. el proyectado.\n",
    "📌 Propuesta de dos KPIs adicionales relevantes para el análisis\n",
    "1️⃣ KPI: Penetración de Internet por provincia\n",
    "Fórmula:\n",
    "\n",
    "𝐾\n",
    "𝑃\n",
    "𝐼\n",
    "=\n",
    "(\n",
    "Hogares con acceso a Internet\n",
    "Total de hogares\n",
    ")\n",
    "×\n",
    "100\n",
    "KPI=( \n",
    "Total de hogares\n",
    "Hogares con acceso a Internet\n",
    "​\n",
    " )×100\n",
    "✅ Interpretación: Mide el porcentaje de hogares con acceso a Internet respecto al total en cada provincia.\n",
    "\n",
    "Visualización sugerida:\n",
    "\n",
    "Mapa geográfico con intensidades de color según el nivel de penetración.\n",
    "Gráfico de barras comparando provincias con mayor y menor acceso.\n",
    "2️⃣ KPI: Velocidad promedio de Internet por provincia\n",
    "Fórmula:\n",
    "\n",
    "𝐾\n",
    "𝑃\n",
    "𝐼\n",
    "=\n",
    "∑\n",
    "Velocidad de conexi\n",
    "o\n",
    "ˊ\n",
    "n de cada hogar\n",
    "Total de hogares con acceso\n",
    "KPI= \n",
    "Total de hogares con acceso\n",
    "∑Velocidad de conexi \n",
    "o\n",
    "ˊ\n",
    " n de cada hogar\n",
    "​\n",
    " \n",
    "✅ Interpretación: Evalúa la calidad del acceso a Internet en cada provincia.\n",
    "\n",
    "Visualización sugerida:\n",
    "\n",
    "Gráfico de caja y bigotes (boxplot) para analizar la distribución de velocidades.\n",
    "Mapa con burbujas de tamaño variable según la velocidad promedio en cada provincia.\n",
    "📊 Próximos pasos:\n",
    "\n",
    "Revisar la disponibilidad de datos en el dataset.\n",
    "Calcular los KPIs en un notebook exploratorio.\n",
    "Diseñar visualizaciones para integrarlas al dashboard.\n",
    "¿Qué te parece esta "
   ]
  },
  {
   "cell_type": "code",
   "execution_count": null,
   "metadata": {},
   "outputs": [],
   "source": [
    "spección inicial del dataset\n",
    "Voy a analizar las hojas más relevantes, revisando su estructura y contenido. Esto incluirá:\n",
    "\n",
    "Ver las primeras filas (.head()).\n",
    "Identificar tipos de datos (.info()).\n",
    "Detectar valores nulos y duplicados (.isnull().sum() y .duplicated().sum()).\n",
    "Obtener estadísticas generales (.describe()).\n",
    "2. Limpieza de datos\n",
    "Dependiendo de la inspección inicial, realizaría:\n",
    "\n",
    "Eliminación o imputación de valores nulos.\n",
    "Conversión de tipos de datos si es necesario (fechas, números, categorías).\n",
    "Normalización de nombres de columnas para facilitar el análisis.\n",
    "3. Análisis exploratorio con visualizaciones\n",
    "Aquí utilizaría gráficos para entender mejor los datos:\n",
    "\n",
    "Distribución de accesos por tecnología/localidad → Gráfico de barras o mapas.\n",
    "Velocidades de internet en cada provincia → Boxplots o histogramas.\n",
    "Evolución del acceso a internet en el tiempo → Gráfico de líneas.\n",
    "Penetración de internet por hogares y población → Mapas de calor o gráficos de dispersión.\n",
    "Relación entre ingresos y acceso a internet → Diagramas de dispersión o correlaciones.\n",
    "4. Generación de KPIs\n",
    "Según los objetivos del análisis, se pueden calcular métricas como:\n",
    "\n",
    "Penetración de internet (%) = (Accesos a internet / Población total) * 100.\n",
    "Crecimiento del acceso a internet en los últimos años.\n",
    "Comparación de velocidades de internet por región.\n",
    "Evolución del acceso por tecnología (fibra óptica, ADSL, etc.).\n",
    "5. Preparación de datos para el dashboard\n",
    "Si necesitas crear un dashboard interactivo, el siguiente paso sería estructurar los datos de manera óptima, seleccionando las variables más relevantes."
   ]
  }
 ],
 "metadata": {
  "kernelspec": {
   "display_name": "Python 3",
   "language": "python",
   "name": "python3"
  },
  "language_info": {
   "codemirror_mode": {
    "name": "ipython",
    "version": 3
   },
   "file_extension": ".py",
   "mimetype": "text/x-python",
   "name": "python",
   "nbconvert_exporter": "python",
   "pygments_lexer": "ipython3",
   "version": "3.12.3"
  }
 },
 "nbformat": 4,
 "nbformat_minor": 2
}
