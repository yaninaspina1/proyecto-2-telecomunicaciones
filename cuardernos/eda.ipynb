{
 "cells": [
  {
   "cell_type": "markdown",
   "metadata": {},
   "source": [
    "Análisis Exploratorio de Datos"
   ]
  },
  {
   "cell_type": "code",
   "execution_count": 4,
   "metadata": {},
   "outputs": [],
   "source": [
    "import numpy as np\n",
    "import pandas as pd\n",
    "import seaborn as sns\n",
    "import matplotlib.pyplot as plt\n",
    "#librerias utilisadas\n"
   ]
  },
  {
   "cell_type": "code",
   "execution_count": 6,
   "metadata": {},
   "outputs": [
    {
     "name": "stdout",
     "output_type": "stream",
     "text": [
      "\n",
      "===== Contenido de la hoja: Acc_vel_loc_sinrangos =====\n",
      "\n",
      "===== Contenido de la hoja: Velocidad_sin_Rangos =====\n",
      "\n",
      "===== Contenido de la hoja: Accesos_tecnologia_localidad =====\n",
      "\n",
      "===== Contenido de la hoja: Velocidad % por prov =====\n",
      "\n",
      "===== Contenido de la hoja: Totales VMD =====\n",
      "\n",
      "===== Contenido de la hoja: Totales Accesos Por Tecnología =====\n",
      "\n",
      "===== Contenido de la hoja: Accesos Por Tecnología =====\n",
      "\n",
      "===== Contenido de la hoja: Penetración-poblacion =====\n",
      "\n",
      "===== Contenido de la hoja: Penetracion-hogares =====\n",
      "\n",
      "===== Contenido de la hoja: Penetracion-totales =====\n",
      "\n",
      "===== Contenido de la hoja: Totales Accesos por rango =====\n",
      "\n",
      "===== Contenido de la hoja: Accesos por rangos =====\n",
      "\n",
      "===== Contenido de la hoja: Dial-BAf =====\n",
      "\n",
      "===== Contenido de la hoja: Totales Dial-BAf =====\n",
      "\n",
      "===== Contenido de la hoja: Ingresos  =====\n"
     ]
    }
   ],
   "source": [
    "\n",
    "file_path = \"C:/Users/yanin/OneDrive/Desktop/proyecto 2/archivos/internet.xlsx\"\n",
    "# Ruta del archivo subido\n",
    "sheets = pd.read_excel(\"C:/Users/yanin/OneDrive/Desktop/proyecto 2/archivos/internet.xlsx\", sheet_name=None)  # Cargar todas las hojas\n",
    "\n",
    "\n",
    "# Cargar el archivo Excel\n",
    "df = pd.ExcelFile(file_path)\n",
    "\n",
    "# Mostrar los nombres de las hojas\n",
    "df.sheet_names\n",
    "\n",
    "for sheet_name, df in sheets.items():\n",
    "    print(f\"\\n===== Contenido de la hoja: {sheet_name} =====\")\n",
    "   \n",
    "\n",
    "\n",
    "\n"
   ]
  },
  {
   "cell_type": "markdown",
   "metadata": {},
   "source": [
    "El archivo contiene las siguientes hojas: 1. **Acc_vel_loc_sinrangos** 2. **Velocidad_sin_Rangos** 3. **Accesos_tecnologia_localidad** 4. **Velocidad % por prov** 5. **Totales VMD** 6. **Totales Accesos por Tecnología** 7. **Accesos por Tecnología** 8. **Penetración-población** 9. **Penetración-hogares** 10. **Penetración-totales** 11. **Totales Accesos por rango** 12. **Accesos por rangos** 13. **Dial-BAf** 14. **Totales Dial-BAf** 15. **Ingresos** "
   ]
  },
  {
   "cell_type": "markdown",
   "metadata": {},
   "source": [
    "las hojas que elejimos para analizar son las sig: \n",
    "**Accesos_tecnologia_localidad**: Puede brindar información sobre el acceso a internet por tecnología en distintas localidades. - \n",
    "**Velocidad % por prov**: Es útil para analizar la distribución de velocidades de internet por provincia. - \n",
    "**Penetracion-hogares / Penetracion-totales**: Indicadores de cuántos hogares y usuarios tienen acceso a internet. - \n",
    "**Totales Accesos Por Tecnología** y **Accesos Por Tecnología**: Para ver la evolución del acceso a internet según la tecnología utilizada. \n",
    "- **Ingresos**: Puede ser relevante si deseas analizar la relación entre el acceso a internet y los ingresos. "
   ]
  },
  {
   "cell_type": "code",
   "execution_count": 7,
   "metadata": {},
   "outputs": [
    {
     "name": "stdout",
     "output_type": "stream",
     "text": [
      "\n",
      "📊 **Hoja: Accesos_tecnologia_localidad**\n",
      "      Provincia     Partido   Localidad    Tecnologia Link Indec  Accesos\n",
      "0  BUENOS AIRES  25 de Mayo  25 de Mayo          ADSL    6854100    755.0\n",
      "1  BUENOS AIRES  25 de Mayo  25 de Mayo    CABLEMODEM    6854100   4600.0\n",
      "2  BUENOS AIRES  25 de Mayo  25 de Mayo  FIBRA OPTICA    6854100      2.0\n",
      "3  BUENOS AIRES  25 de Mayo  25 de Mayo     SATELITAL    6854100    742.0\n",
      "4  BUENOS AIRES  25 de Mayo  25 de Mayo      WIRELESS    6854100    727.0\n",
      "\n",
      "--------------------------------------------------\n",
      "\n",
      "📊 **Hoja: Velocidad % por prov**\n",
      "    Año  Trimestre        Provincia  Mbps (Media de bajada)\n",
      "0  2024          2     Buenos Aires                  157.41\n",
      "1  2024          2  Capital Federal                  233.01\n",
      "2  2024          2        Catamarca                   97.38\n",
      "3  2024          2            Chaco                  107.76\n",
      "4  2024          2           Chubut                   21.67\n",
      "\n",
      "--------------------------------------------------\n",
      "\n",
      "📊 **Hoja: Penetracion-hogares**\n",
      "    Año  Trimestre        Provincia  Accesos por cada 100 hogares\n",
      "0  2024          2     Buenos Aires                         79.84\n",
      "1  2024          2  Capital Federal                        116.37\n",
      "2  2024          2        Catamarca                         68.81\n",
      "3  2024          2            Chaco                         44.06\n",
      "4  2024          2           Chubut                         86.33\n",
      "\n",
      "--------------------------------------------------\n",
      "\n",
      "📊 **Hoja: Penetracion-totales**\n",
      "    Año  Trimestre  Accesos por cada 100 hogares  Accesos por cada 100 hab  \\\n",
      "0  2024          2                         78.13                     24.57   \n",
      "1  2024          1                         78.89                     24.79   \n",
      "2  2023          4                         78.56                     24.66   \n",
      "3  2023          3                         77.84                     24.41   \n",
      "4  2023          2                         77.02                     24.14   \n",
      "\n",
      "         Periodo  \n",
      "0   Abr-Jun 2024  \n",
      "1   Ene-Mar 2024  \n",
      "2   Oct-Dic 2023  \n",
      "3  Jul-Sept 2023  \n",
      "4   Abr-Jun 2023  \n",
      "\n",
      "--------------------------------------------------\n",
      "\n",
      "📊 **Hoja: Totales Accesos Por Tecnología**\n",
      "    Año  Trimestre     ADSL  Cablemodem  Fibra óptica  Wireless   Otros  \\\n",
      "0  2024          2   733491     5867504       4169958    593197  191957   \n",
      "1  2024          1   774475     5986957       4015101    598682  257941   \n",
      "2  2023          4   836390     6022532       3908183    585760  194796   \n",
      "3  2023          3   897895     6018832       3708718    581436  200027   \n",
      "4  2023          2  1006509     5997149       3463988    581823  202428   \n",
      "\n",
      "      Total        Periodo  \n",
      "0  11556107   Abr-Jun 2024  \n",
      "1  11633156   Ene-Mar 2024  \n",
      "2  11547661   Oct-Dic 2023  \n",
      "3  11406908  Jul-Sept 2023  \n",
      "4  11251897   Abr-Jun 2023  \n",
      "\n",
      "--------------------------------------------------\n",
      "\n",
      "📊 **Hoja: Accesos Por Tecnología**\n",
      "    Año Trimestre        Provincia      ADSL  Cablemodem  Fibra óptica  \\\n",
      "0  2024         2     Buenos Aires  214055.0   2722466.0     1849476.0   \n",
      "1  2024         2  Capital Federal   54102.0   1144781.0      230402.0   \n",
      "2  2024         2        Catamarca    4951.0     10303.0       58355.0   \n",
      "3  2024         2            Chaco    9448.0     57935.0       68944.0   \n",
      "4  2024         2           Chubut   25955.0     80704.0       26516.0   \n",
      "\n",
      "   Wireless    Otros      Total  \n",
      "0  138638.0  64745.0  4989380.0  \n",
      "1    4493.0  29821.0  1463599.0  \n",
      "2    1384.0     81.0    75074.0  \n",
      "3    8407.0   2358.0   147092.0  \n",
      "4   31118.0   9930.0   174223.0  \n",
      "\n",
      "--------------------------------------------------\n",
      "\n",
      "📊 **Hoja: Ingresos **\n",
      "    Año  Trimestre  Ingresos (miles de pesos)        Periodo\n",
      "0  2024          2               4.420322e+08   Abr-Jun 2024\n",
      "1  2024          1               3.461990e+08   Ene-Mar 2024\n",
      "2  2023          4               1.673760e+08   Oct-Dic 2023\n",
      "3  2023          3               1.331066e+08  Jul-Sept 2023\n",
      "4  2023          2               1.180603e+08   Jun-Mar 2023\n",
      "\n",
      "--------------------------------------------------\n"
     ]
    }
   ],
   "source": [
    "\n",
    "\n",
    "# Lista de hojas que queremos analizar\n",
    "sheets_to_analyze = [\n",
    "    \"Accesos_tecnologia_localidad\",\n",
    "    \"Velocidad % por prov\",\n",
    "    \"Penetracion-hogares\",\n",
    "    \"Penetracion-totales\",\n",
    "    \"Totales Accesos Por Tecnología\",\n",
    "    \"Accesos Por Tecnología\",\n",
    "    \"Ingresos \"\n",
    "\n",
    "]\n",
    "\n",
    "# Cargar todas las hojas en un diccionario de DataFrames\n",
    "xls = pd.ExcelFile(file_path)\n",
    "dfs = {sheet: xls.parse(sheet) for sheet in sheets_to_analyze}\n",
    "\n",
    "# Mostrar las primeras filas de cada hoja\n",
    "for sheet, df in dfs.items():\n",
    "    print(f\"\\n📊 **Hoja: {sheet}**\")\n",
    "    print(df.head())  # Muestra las primeras 5 filas\n",
    "    print(\"\\n\" + \"-\"*50)  # Separador\n"
   ]
  },
  {
   "cell_type": "markdown",
   "metadata": {},
   "source": [
    "1-analisis Accesos tecnologia localidad"
   ]
  },
  {
   "cell_type": "code",
   "execution_count": 8,
   "metadata": {},
   "outputs": [
    {
     "name": "stdout",
     "output_type": "stream",
     "text": [
      "<class 'pandas.core.frame.DataFrame'>\n",
      "RangeIndex: 7753 entries, 0 to 7752\n",
      "Data columns (total 6 columns):\n",
      " #   Column      Non-Null Count  Dtype  \n",
      "---  ------      --------------  -----  \n",
      " 0   Provincia   7753 non-null   object \n",
      " 1   Partido     7753 non-null   object \n",
      " 2   Localidad   7753 non-null   object \n",
      " 3   Tecnologia  7753 non-null   object \n",
      " 4   Link Indec  7753 non-null   object \n",
      " 5   Accesos     7747 non-null   float64\n",
      "dtypes: float64(1), object(5)\n",
      "memory usage: 363.6+ KB\n"
     ]
    },
    {
     "data": {
      "text/plain": [
       "{'head':       Provincia     Partido   Localidad    Tecnologia Link Indec  Accesos\n",
       " 0  BUENOS AIRES  25 de Mayo  25 de Mayo          ADSL    6854100    755.0\n",
       " 1  BUENOS AIRES  25 de Mayo  25 de Mayo    CABLEMODEM    6854100   4600.0\n",
       " 2  BUENOS AIRES  25 de Mayo  25 de Mayo  FIBRA OPTICA    6854100      2.0\n",
       " 3  BUENOS AIRES  25 de Mayo  25 de Mayo     SATELITAL    6854100    742.0\n",
       " 4  BUENOS AIRES  25 de Mayo  25 de Mayo      WIRELESS    6854100    727.0,\n",
       " 'info': None,\n",
       " 'missing_values': Provincia     0\n",
       " Partido       0\n",
       " Localidad     0\n",
       " Tecnologia    0\n",
       " Link Indec    0\n",
       " Accesos       6\n",
       " dtype: int64,\n",
       " 'duplicates': np.int64(0),\n",
       " 'describe':             Accesos\n",
       " count  7.747000e+03\n",
       " mean   1.491688e+03\n",
       " std    1.520174e+04\n",
       " min    0.000000e+00\n",
       " 25%    3.000000e+00\n",
       " 50%    5.900000e+01\n",
       " 75%    4.005000e+02\n",
       " max    1.144781e+06}"
      ]
     },
     "execution_count": 8,
     "metadata": {},
     "output_type": "execute_result"
    }
   ],
   "source": [
    "# Seleccionar la hoja \"Accesos_tecnologia_localidad\"\n",
    "sheet_name = \"Accesos_tecnologia_localidad\"\n",
    "df = dfs[sheet_name]\n",
    "\n",
    "# Análisis inicial\n",
    "analysis_results = {\n",
    "    \"head\": df.head(),  # Primeras filas\n",
    "    \"info\": df.info(),  # Información general\n",
    "    \"missing_values\": df.isnull().sum(),  # Valores nulos\n",
    "    \"duplicates\": df.duplicated().sum(),  # Duplicados\n",
    "    \"describe\": df.describe()  # Estadísticas generales\n",
    "}\n",
    "\n",
    "analysis_results\n"
   ]
  },
  {
   "cell_type": "markdown",
   "metadata": {},
   "source": [
    "esta es la informacion que contine: \n",
    "-Las columnas incluyen información sobre la provincia, partido, localidad, tipo de tecnología utilizada, un enlace a datos del INDEC y la cantidad de accesos a internet\n",
    "-El dataset contiene 7,753 registros y 6 columnas\n",
    "-el dataset solo contiene 6 nulos \n",
    "-presencia de valores atipicos: puede darse en zona urbanas o rurales\n",
    "-el minimo lo dice que hay lugares que no hay internet\n",
    "-el maximo sugiere que hay grandes cuidades que la poblacion utiliza internet\n",
    "- la Mediana : lo que sugiere que la mayoría de las localidades tienen un número bajo de accesos.\n",
    "-la Media :  lo que indica que hay algunas localidades con valores extremadamente altos que influyen en la media.\n",
    "-Desviación estándar:  lo que sugiere una gran variabilidad en los accesos entre localidades.\n",
    "-El 75% de las localidades: tienen hasta 400 accesos, lo que significa que la mayoría de los accesos están concentrados en pocas localidades con valores muy altos"
   ]
  },
  {
   "cell_type": "code",
   "execution_count": 9,
   "metadata": {},
   "outputs": [
    {
     "data": {
      "image/png": "[encoded data removed]",
      "text/plain": [
       "<Figure size 1400x500 with 2 Axes>"
      ]
     },
     "metadata": {},
     "output_type": "display_data"
    }
   ],
   "source": [
    "# Configurar el estilo de los gráficos\n",
    "sns.set(style=\"whitegrid\")\n",
    "# Crear una figura con dos subgráficos: histograma y boxplot\n",
    "fig, axes = plt.subplots(1, 2, figsize=(14, 5))\n",
    "# Histograma de \"Accesos\" (escala logarítmica para mejor visualización)\n",
    "sns.histplot(df[\"Accesos\"].dropna(), bins=50, kde=True, ax=axes[0])\n",
    "axes[0].set_title(\"Distribución de Accesos a Internet por Localidad\")\n",
    "axes[0].set_xlabel(\"Accesos\")\n",
    "axes[0].set_ylabel(\"Frecuencia\")\n",
    "axes[0].set_xscale(\"log\")  # Escala logarítmica para manejar valores extremos\n",
    "# Boxplot de \"Accesos\"\n",
    "sns.boxplot(x=df[\"Accesos\"], ax=axes[1])\n",
    "axes[1].set_title(\"Boxplot de Accesos a Internet por Localidad\")\n",
    "axes[1].set_xlabel(\"Accesos\")\n",
    "# Mostrar los gráficos\n",
    "plt.tight_layout()\n",
    "plt.show()"
   ]
  },
  {
   "cell_type": "markdown",
   "metadata": {},
   "source": [
    "-en el primer grafico muestra la distribucion del acessos a internet por localidad muestra una alta concetracion en pocas localidades,con una disminución exponencial en la frecuencia de accesos a medida que aumenta el número de la localidad. Esto sugiere una brecha digital significativa entre las localidades con mayor y menor acceso a Internet.\n",
    "-en el segundo grafico muestra diagrama de caja de los accesos a Internet por localidad.  \n",
    "* Dispersión: Existe una gran dispersión en la cantidad de accesos a Internet entre las diferentes localidades, lo que sugiere una distribución desigual del acceso a Internet.\n",
    " * Valores atípicos: Se observan valores atípicos en el extremo superior, lo que indica que algunas localidades tienen una cantidad de accesos a Internet significativamente mayor que el resto.\n",
    " * Mediana: La mediana de los accesos a Internet se encuentra relativamente baja, lo que sugiere que la mayoría de las localidades tienen una cantidad de accesos a Internet inferior al promedio"
   ]
  },
  {
   "cell_type": "markdown",
   "metadata": {},
   "source": [
    "2. Velocidad % por prov"
   ]
  },
  {
   "cell_type": "markdown",
   "metadata": {},
   "source": []
  },
  {
   "cell_type": "markdown",
   "metadata": {},
   "source": [
    "# Cargar la hoja \"Velocidad % por prov\"\n",
    "df = pd.read_excel(file_path, sheet_name=\"Velocidad % por prov\")\n",
    "\n",
    "# Mostrar las primeras filas del DataFrame\n",
    "df.head()\n"
   ]
  },
  {
   "cell_type": "markdown",
   "metadata": {},
   "source": []
  },
  {
   "cell_type": "code",
   "execution_count": null,
   "metadata": {},
   "outputs": [],
   "source": []
  },
  {
   "cell_type": "markdown",
   "metadata": {},
   "source": [
    " Inspección inicial del dataset\n",
    "Voy a analizar las hojas más relevantes, revisando su estructura y contenido. Esto incluirá:\n",
    "\n",
    "Ver las primeras filas (.head()).\n",
    "Identificar tipos de datos (.info()).\n",
    "Detectar valores nulos y duplicados (.isnull().sum() y .duplicated().sum()).\n",
    "Obtener estadísticas generales (.describe()).\n",
    "2. Limpieza de datos\n",
    "Dependiendo de la inspección inicial, realizaría:\n",
    "\n",
    "Eliminación o imputación de valores nulos.\n",
    "Conversión de tipos de datos si es necesario (fechas, números, categorías).\n",
    "Normalización de nombres de columnas para facilitar el análisis.\n",
    "3. Análisis exploratorio con visualizaciones\n",
    "Aquí utilizaría gráficos para entender mejor los datos:\n",
    "\n",
    "Distribución de accesos por tecnología/localidad → Gráfico de barras o mapas.\n",
    "Velocidades de internet en cada provincia → Boxplots o histogramas.\n",
    "Evolución del acceso a internet en el tiempo → Gráfico de líneas.\n",
    "Penetración de internet por hogares y población → Mapas de calor o gráficos de dispersión.\n",
    "Relación entre ingresos y acceso a internet → Diagramas de dispersión o correlaciones.\n",
    "4. Generación de KPIs\n",
    "Según los objetivos del análisis, se pueden calcular métricas como:\n",
    "\n",
    "Penetración de internet (%) = (Accesos a internet / Población total) * 100.\n",
    "Crecimiento del acceso a internet en los últimos años.\n",
    "Comparación de velocidades de internet por región.\n",
    "Evolución del acceso por tecnología (fibra óptica, ADSL, etc.).\n",
    "5. Preparación de datos para el dashboard\n",
    "Si necesitas crear un dashboard interactivo, el siguiente paso sería estructurar los datos de manera óptima, seleccionando las variables más relevantes."
   ]
  }
 ],
 "metadata": {
  "kernelspec": {
   "display_name": "Python 3",
   "language": "python",
   "name": "python3"
  },
  "language_info": {
   "codemirror_mode": {
    "name": "ipython",
    "version": 3
   },
   "file_extension": ".py",
   "mimetype": "text/x-python",
   "name": "python",
   "nbconvert_exporter": "python",
   "pygments_lexer": "ipython3",
   "version": "3.12.3"
  }
 },
 "nbformat": 4,
 "nbformat_minor": 2
}
